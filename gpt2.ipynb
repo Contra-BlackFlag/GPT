{
 "cells": [
  {
   "cell_type": "code",
   "execution_count": 2,
   "id": "3969db86",
   "metadata": {},
   "outputs": [],
   "source": [
    "with open('input.txt' , 'r', encoding = 'utf-8') as f:\n",
    "        text = f.read()"
   ]
  },
  {
   "cell_type": "code",
   "execution_count": 3,
   "id": "aac44c1c",
   "metadata": {},
   "outputs": [
    {
     "data": {
      "text/plain": [
       "1115394"
      ]
     },
     "execution_count": 3,
     "metadata": {},
     "output_type": "execute_result"
    }
   ],
   "source": [
    "len(text)"
   ]
  },
  {
   "cell_type": "code",
   "execution_count": 4,
   "id": "ff3c12bb",
   "metadata": {},
   "outputs": [
    {
     "data": {
      "text/plain": [
       "'First Citi'"
      ]
     },
     "execution_count": 4,
     "metadata": {},
     "output_type": "execute_result"
    }
   ],
   "source": [
    "text[:10]"
   ]
  },
  {
   "cell_type": "code",
   "execution_count": 6,
   "id": "72e58e70",
   "metadata": {},
   "outputs": [],
   "source": [
    "chars = sorted(list(set(text)))\n",
    "vocab_size = len(chars)\n"
   ]
  },
  {
   "cell_type": "code",
   "execution_count": 7,
   "id": "3a96596b",
   "metadata": {},
   "outputs": [
    {
     "data": {
      "text/plain": [
       "65"
      ]
     },
     "execution_count": 7,
     "metadata": {},
     "output_type": "execute_result"
    }
   ],
   "source": [
    "vocab_size"
   ]
  },
  {
   "cell_type": "code",
   "execution_count": 8,
   "id": "198af3f0",
   "metadata": {},
   "outputs": [
    {
     "data": {
      "text/plain": [
       "['\\n',\n",
       " ' ',\n",
       " '!',\n",
       " '$',\n",
       " '&',\n",
       " \"'\",\n",
       " ',',\n",
       " '-',\n",
       " '.',\n",
       " '3',\n",
       " ':',\n",
       " ';',\n",
       " '?',\n",
       " 'A',\n",
       " 'B',\n",
       " 'C',\n",
       " 'D',\n",
       " 'E',\n",
       " 'F',\n",
       " 'G',\n",
       " 'H',\n",
       " 'I',\n",
       " 'J',\n",
       " 'K',\n",
       " 'L',\n",
       " 'M',\n",
       " 'N',\n",
       " 'O',\n",
       " 'P',\n",
       " 'Q',\n",
       " 'R',\n",
       " 'S',\n",
       " 'T',\n",
       " 'U',\n",
       " 'V',\n",
       " 'W',\n",
       " 'X',\n",
       " 'Y',\n",
       " 'Z',\n",
       " 'a',\n",
       " 'b',\n",
       " 'c',\n",
       " 'd',\n",
       " 'e',\n",
       " 'f',\n",
       " 'g',\n",
       " 'h',\n",
       " 'i',\n",
       " 'j',\n",
       " 'k',\n",
       " 'l',\n",
       " 'm',\n",
       " 'n',\n",
       " 'o',\n",
       " 'p',\n",
       " 'q',\n",
       " 'r',\n",
       " 's',\n",
       " 't',\n",
       " 'u',\n",
       " 'v',\n",
       " 'w',\n",
       " 'x',\n",
       " 'y',\n",
       " 'z']"
      ]
     },
     "execution_count": 8,
     "metadata": {},
     "output_type": "execute_result"
    }
   ],
   "source": [
    "chars"
   ]
  },
  {
   "cell_type": "code",
   "execution_count": 22,
   "id": "49d514ec",
   "metadata": {},
   "outputs": [],
   "source": [
    "stoi = {ch : i for i,ch in enumerate(chars)}\n",
    "itos = {i:ch for i,ch in enumerate(chars)}\n",
    "encode = lambda s : [stoi[c] for c in s]\n",
    "decode = lambda l : ''.join([itos[i] for i in l])"
   ]
  },
  {
   "cell_type": "code",
   "execution_count": 23,
   "id": "38d2a99c",
   "metadata": {},
   "outputs": [
    {
     "data": {
      "text/plain": [
       "[46, 47]"
      ]
     },
     "execution_count": 23,
     "metadata": {},
     "output_type": "execute_result"
    }
   ],
   "source": [
    "a = encode(\"hi\")\n",
    "a"
   ]
  },
  {
   "cell_type": "code",
   "execution_count": 25,
   "id": "74104b2c",
   "metadata": {},
   "outputs": [
    {
     "name": "stdout",
     "output_type": "stream",
     "text": [
      "hi\n"
     ]
    }
   ],
   "source": [
    "print(decode(a))"
   ]
  },
  {
   "cell_type": "code",
   "execution_count": 26,
   "id": "adda4446",
   "metadata": {},
   "outputs": [],
   "source": [
    "import torch\n",
    "data = torch.tensor(encode(text),dtype = torch.long)"
   ]
  },
  {
   "cell_type": "code",
   "execution_count": 27,
   "id": "acbdc38a",
   "metadata": {},
   "outputs": [
    {
     "name": "stdout",
     "output_type": "stream",
     "text": [
      "torch.Size([1115394])\n"
     ]
    }
   ],
   "source": [
    "print(data.shape)"
   ]
  },
  {
   "cell_type": "code",
   "execution_count": 29,
   "id": "c52131e0",
   "metadata": {},
   "outputs": [
    {
     "data": {
      "text/plain": [
       "torch.int64"
      ]
     },
     "execution_count": 29,
     "metadata": {},
     "output_type": "execute_result"
    }
   ],
   "source": [
    "data.dtype"
   ]
  },
  {
   "cell_type": "code",
   "execution_count": 30,
   "id": "0b244273",
   "metadata": {},
   "outputs": [
    {
     "data": {
      "text/plain": [
       "tensor([18, 47, 56, 57, 58,  1, 15, 47, 58, 47, 64, 43, 52, 10,  0, 14, 43, 44,\n",
       "        53, 56, 43,  1, 61, 43,  1, 54, 56, 53, 41, 43, 43, 42,  1, 39, 52, 63,\n",
       "         1, 44, 59, 56, 58, 46, 43, 56,  6,  1, 46, 43, 39, 56,  1, 51, 43,  1,\n",
       "        57, 54, 43, 39, 49,  8,  0,  0, 13, 50, 50, 10,  0, 31, 54, 43, 39, 49,\n",
       "         6,  1, 57, 54, 43, 39, 49,  8,  0,  0, 18, 47, 56, 57, 58,  1, 15, 47,\n",
       "        58, 47, 64, 43, 52, 10,  0, 37, 53, 59])"
      ]
     },
     "execution_count": 30,
     "metadata": {},
     "output_type": "execute_result"
    }
   ],
   "source": [
    "data[:100]"
   ]
  },
  {
   "cell_type": "code",
   "execution_count": 32,
   "id": "71f8d919",
   "metadata": {},
   "outputs": [],
   "source": [
    "n = int(0.9*len(data))\n",
    "train_data = data[:n]\n",
    "val_data = data [n:]"
   ]
  },
  {
   "cell_type": "code",
   "execution_count": 33,
   "id": "73a5f72c",
   "metadata": {},
   "outputs": [
    {
     "data": {
      "text/plain": [
       "tensor([18, 47, 56, 57, 58,  1, 15, 47, 58])"
      ]
     },
     "execution_count": 33,
     "metadata": {},
     "output_type": "execute_result"
    }
   ],
   "source": [
    "block_size = 8\n",
    "train_data[:block_size+1]"
   ]
  },
  {
   "cell_type": "code",
   "execution_count": 35,
   "id": "877946dc",
   "metadata": {},
   "outputs": [],
   "source": [
    "torch.manual_seed(1337)\n",
    "batch_size = 4\n",
    "def get_batch(split):\n",
    "    data = train_data if split == \"train\" else val_data\n",
    "    ix = torch.randint(len(data) - block_size, (batch_size,))\n",
    "    x = torch.stack([data[i:i+block_size] for i in ix])\n",
    "    y = torch.stack([data[i+1:i+block_size] for i in ix])\n",
    "    return x,y"
   ]
  },
  {
   "cell_type": "code",
   "execution_count": 36,
   "id": "925b3f1e",
   "metadata": {},
   "outputs": [],
   "source": [
    " xb,yb = get_batch('train')"
   ]
  },
  {
   "cell_type": "code",
   "execution_count": null,
   "id": "b2db19c3",
   "metadata": {},
   "outputs": [
    {
     "data": {
      "text/plain": [
       "(tensor([[24, 43, 58,  5, 57,  1, 46, 43],\n",
       "         [44, 53, 56,  1, 58, 46, 39, 58],\n",
       "         [52, 58,  1, 58, 46, 39, 58,  1],\n",
       "         [25, 17, 27, 10,  0, 21,  1, 54]]),\n",
       " tensor([[43, 58,  5, 57,  1, 46, 43],\n",
       "         [53, 56,  1, 58, 46, 39, 58],\n",
       "         [58,  1, 58, 46, 39, 58,  1],\n",
       "         [17, 27, 10,  0, 21,  1, 54]]))"
      ]
     },
     "execution_count": 38,
     "metadata": {},
     "output_type": "execute_result"
    }
   ],
   "source": [
    "xb,yb"
   ]
  },
  {
   "cell_type": "code",
   "execution_count": null,
   "id": "8b6ad138",
   "metadata": {},
   "outputs": [],
   "source": [
    "import torch.nn as nn\n",
    "from torch.nn import functional as F\n",
    "torch.manual_seed(1337)\n",
    "\n",
    "class BigramModel(nn.Module):\n",
    "    def __init__(self,vocab_size):\n",
    "        super().__init__()\n",
    "        self.token_embedding_table = nn.Embedding(vocab_size,vocab_size)\n",
    "\n",
    "    def forward(self,input_index,targets):\n",
    "        logits = self.token_embedding_table(input_index)\n",
    "        return logits"
   ]
  },
  {
   "cell_type": "code",
   "execution_count": 44,
   "id": "469d98c0",
   "metadata": {},
   "outputs": [
    {
     "name": "stdout",
     "output_type": "stream",
     "text": [
      "torch.Size([4, 8, 65])\n"
     ]
    }
   ],
   "source": [
    "m = BigramModel(vocab_size=vocab_size)\n",
    "out = m(xb,yb)\n",
    "print(out.shape)"
   ]
  },
  {
   "cell_type": "code",
   "execution_count": null,
   "id": "3efbf637",
   "metadata": {},
   "outputs": [
    {
     "data": {
      "text/plain": [
       "tensor([[-0.2103,  0.4481,  1.2381,  0.6091,  0.4209, -1.3998, -0.4007, -0.1462,\n",
       "         -1.1387, -0.0134, -1.9390,  0.6582,  0.6734,  0.7523, -0.7533, -0.1611,\n",
       "          0.8354,  1.7862, -0.7115,  0.2381, -1.2085,  0.0717,  0.1532, -2.2039,\n",
       "          0.6705,  0.2791, -0.2735,  0.3476, -0.2101,  2.2659,  1.0809, -0.4287,\n",
       "         -0.2424, -0.2258, -0.3756,  0.3991,  0.7816,  1.2656,  1.3015,  0.1370,\n",
       "          0.9264, -1.1001, -1.0641,  0.6243, -0.2436,  0.1079,  0.4256,  0.1838,\n",
       "         -0.1147,  1.7112,  1.2666,  0.7957,  0.9475,  1.3239,  2.0084,  1.4341,\n",
       "         -0.4606, -0.0487, -1.1202,  1.3071,  0.0508,  0.2770,  1.3597, -0.0821,\n",
       "          0.3909],\n",
       "        [ 0.2475, -0.6349, -1.2909,  1.1822,  0.1479, -0.4333, -0.8269,  0.0728,\n",
       "         -1.2982,  0.3960, -1.2460,  0.1458, -0.5699, -1.3561, -0.3812, -0.8515,\n",
       "          1.1918, -0.8108, -0.1733, -0.4703, -0.6000, -1.3636, -1.0889,  1.0108,\n",
       "          0.8543, -0.0441,  1.8017,  0.6014, -2.5448, -0.4865,  2.6412,  1.6053,\n",
       "          0.5901,  0.8137, -0.1124, -0.3050,  1.1426,  0.6637, -0.7000,  0.9262,\n",
       "         -1.1032, -1.2125,  0.6065,  0.5882, -0.5453,  0.7654,  0.5692,  0.8859,\n",
       "         -0.0700,  0.6792, -0.0283, -1.2243, -1.7192,  1.4801,  0.9587, -0.0338,\n",
       "          0.5083, -0.2502,  2.0734, -0.2994,  0.0473, -0.9626,  1.3064, -0.2256,\n",
       "         -1.8305],\n",
       "        [ 0.5978, -0.0514, -0.0646, -0.4970,  0.4658, -0.2573, -1.0673,  2.0089,\n",
       "         -0.5370,  0.2228,  0.6971, -1.4267,  0.9059,  0.1446,  0.2280,  2.4900,\n",
       "         -1.2237,  1.0107,  0.5560, -1.5935, -1.2706,  0.6903, -0.1961,  0.3449,\n",
       "         -0.3419,  0.4759, -0.7663, -0.4190, -0.4370, -1.0012, -0.4094, -1.6669,\n",
       "         -1.3651, -0.1655,  0.9623,  0.0315, -0.7419, -0.2978,  0.0172, -0.1772,\n",
       "         -0.1334,  0.2940,  1.3850,  0.1209,  2.5418, -0.6405, -1.9740, -0.3296,\n",
       "          0.0080,  0.9262, -1.8846,  0.1670,  0.4586, -1.7662,  0.5860,  1.7510,\n",
       "          0.2807,  0.3110, -0.6538, -0.6576,  0.3184, -0.5496, -1.4649, -2.0555,\n",
       "          1.8275],\n",
       "        [ 0.2475, -0.6349, -1.2909,  1.1822,  0.1479, -0.4333, -0.8269,  0.0728,\n",
       "         -1.2982,  0.3960, -1.2460,  0.1458, -0.5699, -1.3561, -0.3812, -0.8515,\n",
       "          1.1918, -0.8108, -0.1733, -0.4703, -0.6000, -1.3636, -1.0889,  1.0108,\n",
       "          0.8543, -0.0441,  1.8017,  0.6014, -2.5448, -0.4865,  2.6412,  1.6053,\n",
       "          0.5901,  0.8137, -0.1124, -0.3050,  1.1426,  0.6637, -0.7000,  0.9262,\n",
       "         -1.1032, -1.2125,  0.6065,  0.5882, -0.5453,  0.7654,  0.5692,  0.8859,\n",
       "         -0.0700,  0.6792, -0.0283, -1.2243, -1.7192,  1.4801,  0.9587, -0.0338,\n",
       "          0.5083, -0.2502,  2.0734, -0.2994,  0.0473, -0.9626,  1.3064, -0.2256,\n",
       "         -1.8305],\n",
       "        [ 1.0901,  0.2170, -2.9996,  1.4690, -0.1948, -0.1507,  0.2601, -0.9647,\n",
       "          0.1162, -0.8295, -0.2266,  0.0219, -0.2785, -0.4851, -1.8023, -0.7330,\n",
       "         -1.2828,  0.8863,  1.0515, -0.9823, -1.6369, -1.3499,  0.1830,  0.0532,\n",
       "         -1.1438, -0.2829, -0.5979,  1.4757,  0.4655, -3.0346,  0.5516,  1.3107,\n",
       "          0.1240, -1.8046,  0.2700, -0.4322,  0.2784, -0.5599,  1.2502,  0.7051,\n",
       "         -1.0169,  0.4854, -1.0808, -0.3128, -0.4189, -0.5718,  0.8215,  1.7384,\n",
       "          0.5578,  0.6167,  1.5260, -0.3508, -1.5615,  0.4548, -0.8935,  0.3642,\n",
       "          0.5714,  2.7072, -1.5443,  1.1288, -1.1217, -1.7328, -0.5472, -0.8017,\n",
       "          0.7761],\n",
       "        [ 1.1513,  1.0539,  3.4105, -0.9621, -1.1720,  0.5953, -0.4098,  1.4256,\n",
       "         -1.2171, -1.6845,  0.5385,  1.8967, -0.2745,  0.2787, -0.6473, -2.6276,\n",
       "         -1.3731, -1.2415,  0.7076, -0.4946,  1.1809,  0.5424, -0.8578,  0.5198,\n",
       "          0.1509, -0.0399,  1.0038, -1.1435,  1.8040, -0.0290, -0.8131,  0.9093,\n",
       "         -1.1375,  0.5140, -0.4895, -0.0806,  0.9151, -0.5481,  1.1071, -0.3505,\n",
       "          0.6674, -0.0894,  0.2723,  0.6034,  0.2319,  1.5473, -0.6886, -0.4414,\n",
       "          1.2790, -0.9959, -0.4363, -0.8700, -0.0538,  1.1496,  1.0411,  0.0580,\n",
       "         -1.6868,  0.4005,  1.0880, -0.4828, -0.0709,  1.0966, -0.5686,  0.9079,\n",
       "         -0.1701],\n",
       "        [ 0.2475, -0.6349, -1.2909,  1.1822,  0.1479, -0.4333, -0.8269,  0.0728,\n",
       "         -1.2982,  0.3960, -1.2460,  0.1458, -0.5699, -1.3561, -0.3812, -0.8515,\n",
       "          1.1918, -0.8108, -0.1733, -0.4703, -0.6000, -1.3636, -1.0889,  1.0108,\n",
       "          0.8543, -0.0441,  1.8017,  0.6014, -2.5448, -0.4865,  2.6412,  1.6053,\n",
       "          0.5901,  0.8137, -0.1124, -0.3050,  1.1426,  0.6637, -0.7000,  0.9262,\n",
       "         -1.1032, -1.2125,  0.6065,  0.5882, -0.5453,  0.7654,  0.5692,  0.8859,\n",
       "         -0.0700,  0.6792, -0.0283, -1.2243, -1.7192,  1.4801,  0.9587, -0.0338,\n",
       "          0.5083, -0.2502,  2.0734, -0.2994,  0.0473, -0.9626,  1.3064, -0.2256,\n",
       "         -1.8305],\n",
       "        [ 0.5978, -0.0514, -0.0646, -0.4970,  0.4658, -0.2573, -1.0673,  2.0089,\n",
       "         -0.5370,  0.2228,  0.6971, -1.4267,  0.9059,  0.1446,  0.2280,  2.4900,\n",
       "         -1.2237,  1.0107,  0.5560, -1.5935, -1.2706,  0.6903, -0.1961,  0.3449,\n",
       "         -0.3419,  0.4759, -0.7663, -0.4190, -0.4370, -1.0012, -0.4094, -1.6669,\n",
       "         -1.3651, -0.1655,  0.9623,  0.0315, -0.7419, -0.2978,  0.0172, -0.1772,\n",
       "         -0.1334,  0.2940,  1.3850,  0.1209,  2.5418, -0.6405, -1.9740, -0.3296,\n",
       "          0.0080,  0.9262, -1.8846,  0.1670,  0.4586, -1.7662,  0.5860,  1.7510,\n",
       "          0.2807,  0.3110, -0.6538, -0.6576,  0.3184, -0.5496, -1.4649, -2.0555,\n",
       "          1.8275]], grad_fn=<SliceBackward0>)"
      ]
     },
     "execution_count": 49,
     "metadata": {},
     "output_type": "execute_result"
    }
   ],
   "source": []
  },
  {
   "cell_type": "code",
   "execution_count": null,
   "id": "bec27670",
   "metadata": {},
   "outputs": [],
   "source": []
  }
 ],
 "metadata": {
  "kernelspec": {
   "display_name": "Python 3",
   "language": "python",
   "name": "python3"
  },
  "language_info": {
   "codemirror_mode": {
    "name": "ipython",
    "version": 3
   },
   "file_extension": ".py",
   "mimetype": "text/x-python",
   "name": "python",
   "nbconvert_exporter": "python",
   "pygments_lexer": "ipython3",
   "version": "3.13.1"
  }
 },
 "nbformat": 4,
 "nbformat_minor": 5
}
